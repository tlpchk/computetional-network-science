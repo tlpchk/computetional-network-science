{
 "cells": [
  {
   "cell_type": "markdown",
   "metadata": {
    "collapsed": true,
    "pycharm": {
     "name": "#%% md\n"
    }
   },
   "source": [
    "## Imports"
   ]
  },
  {
   "cell_type": "code",
   "execution_count": 28,
   "outputs": [],
   "source": [
    "from bs4 import BeautifulSoup\n",
    "import requests\n",
    "from time import sleep\n",
    "from tqdm.notebook import trange, tqdm\n",
    "import numpy as np\n",
    "from selenium import webdriver\n",
    "from selenium.webdriver.chrome.options import Options\n",
    "from selenium.webdriver.common.action_chains import ActionChains\n",
    "import os"
   ],
   "metadata": {
    "collapsed": false,
    "pycharm": {
     "name": "#%%\n",
     "is_executing": false
    }
   }
  },
  {
   "cell_type": "markdown",
   "source": [
    "## Settings"
   ],
   "metadata": {
    "collapsed": false
   }
  },
  {
   "cell_type": "code",
   "execution_count": null,
   "outputs": [],
   "source": [
    "DIRECTORY_PATH = './pages'"
   ],
   "metadata": {
    "collapsed": false,
    "pycharm": {
     "name": "#%%\n"
    }
   }
  },
  {
   "cell_type": "markdown",
   "source": [
    "## Download pages\n",
    "It is not perfect and slow due to page loading too long. Manual download of invalid pages may be necessary.\n",
    "To check which ones are bad, evaluate next cell after that cell. Then on desired page extend one accordion, \n",
    "inspect the page, copy whole html tag (don't view page sources, because it doesn't load links) and replace invalid data."
   ],
   "metadata": {
    "collapsed": false,
    "pycharm": {
     "name": "#%% md\n"
    }
   }
  },
  {
   "cell_type": "code",
   "execution_count": 31,
   "outputs": [
    {
     "data": {
      "text/plain": "HBox(children=(FloatProgress(value=0.0, max=1.0), HTML(value='')))",
      "application/vnd.jupyter.widget-view+json": {
       "version_major": 2,
       "version_minor": 0,
       "model_id": "09dffcdf017444f7952ae793d2ea0eff"
      }
     },
     "metadata": {},
     "output_type": "display_data"
    },
    {
     "name": "stdout",
     "text": [
      "\n"
     ],
     "output_type": "stream"
    }
   ],
   "source": [
    "MAIN_URL = 'https://wizzair.com/en-gb/flights/'\n",
    "\n",
    "def save_page(name, content):\n",
    "    with open(f'{DIRECTORY_PATH}/{name}.html', mode='wb') as file: \n",
    "        file.write(content)\n",
    "\n",
    "main_content = requests.get(MAIN_URL).content\n",
    "save_page(\"Main\", main_content)\n",
    "sleep(np.random.uniform(1, 3))\n",
    "\n",
    "chrome_options = Options()\n",
    "chrome_options.add_argument(\"--headless\")\n",
    "chrome_options.add_argument(\"--no-sandbox\") # linux\n",
    "# chrome_options.add_argument(\"--disable-gpu\") # windows\n",
    "driver = webdriver.Chrome(options=chrome_options)\n",
    "\n",
    "soup = BeautifulSoup(main_content, 'html.parser')\n",
    "list_items = soup.findAll('li', {'class': 'list__item'})\n",
    "for item in tqdm(list_items):\n",
    "    a = item.find('a')\n",
    "    link = a['href']\n",
    "    country_name = a.contents[0].strip().replace(\" \", \"_\")\n",
    "    \n",
    "    driver.get(link)\n",
    "    \n",
    "    # avoid clicking cookie popup\n",
    "    sleep(np.random.uniform(19, 21))\n",
    "    driver.execute_script(\"window.scrollTo(0, document.body.scrollHeight);\")\n",
    "    \n",
    "    # click accordion to show needed links\n",
    "    sleep(np.random.uniform(0.5, 2))\n",
    "    accordion = driver.find_element_by_css_selector(\"div[class='sf_colsIn container']\")\n",
    "    ActionChains(driver).move_to_element(accordion).click().perform()\n",
    "    \n",
    "    # save page\n",
    "    sleep(np.random.uniform(4, 6))\n",
    "    page_content = driver.page_source.encode(\"utf-8\")\n",
    "    save_page(country_name, page_content)\n",
    "    sleep(np.random.uniform(1, 4))"
   ],
   "metadata": {
    "collapsed": false,
    "pycharm": {
     "name": "#%%\n",
     "is_executing": false
    }
   }
  },
  {
   "cell_type": "markdown",
   "source": [
    "#### Check which are invalid"
   ],
   "metadata": {
    "collapsed": false
   }
  },
  {
   "cell_type": "code",
   "execution_count": 32,
   "outputs": [
    {
     "name": "stdout",
     "text": [
      ".gitkeep is invalid\n",
      "Main.html is invalid\n"
     ],
     "output_type": "stream"
    }
   ],
   "source": [
    "for filename in os.listdir(DIRECTORY_PATH):\n",
    "    with open(os.path.join(DIRECTORY_PATH, filename), 'r') as f:\n",
    "        if \"Flights from\" not in f.read():\n",
    "            print(f'{filename} is invalid')"
   ],
   "metadata": {
    "collapsed": false,
    "pycharm": {
     "name": "#%%\n",
     "is_executing": false
    }
   }
  }
 ],
 "metadata": {
  "kernelspec": {
   "display_name": "Python 3",
   "language": "python",
   "name": "python3"
  },
  "language_info": {
   "codemirror_mode": {
    "name": "ipython",
    "version": 2
   },
   "file_extension": ".py",
   "mimetype": "text/x-python",
   "name": "python",
   "nbconvert_exporter": "python",
   "pygments_lexer": "ipython2",
   "version": "2.7.6"
  },
  "pycharm": {
   "stem_cell": {
    "cell_type": "raw",
    "source": [],
    "metadata": {
     "collapsed": false
    }
   }
  }
 },
 "nbformat": 4,
 "nbformat_minor": 0
}