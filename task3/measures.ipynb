{
 "nbformat": 4,
 "nbformat_minor": 0,
 "metadata": {
  "colab": {
   "name": "ONOS2.ipynb",
   "provenance": [],
   "collapsed_sections": [],
   "toc_visible": true,
   "machine_shape": "hm"
  },
  "kernelspec": {
   "name": "ir",
   "display_name": "R"
  },
  "pycharm": {
   "stem_cell": {
    "cell_type": "raw",
    "source": [
     "\n"
    ],
    "metadata": {
     "collapsed": false
    }
   }
  }
 },
 "cells": [
  {
   "cell_type": "code",
   "metadata": {
    "id": "7hJd1dKWxW7x",
    "colab_type": "code",
    "outputId": "775b4a79-7174-40d9-81aa-45d65381ae21",
    "colab": {
     "base_uri": "https://localhost:8080/",
     "height": 125
    }
   },
   "source": [
    "install.packages('igraph')\n",
    "install.packages('tictoc')"
   ],
   "execution_count": 0,
   "outputs": [
    {
     "output_type": "stream",
     "text": [
      "Installing package into ‘/usr/local/lib/R/site-library’\n",
      "(as ‘lib’ is unspecified)\n",
      "\n",
      "Installing package into ‘/usr/local/lib/R/site-library’\n",
      "(as ‘lib’ is unspecified)\n",
      "\n"
     ],
     "name": "stderr"
    }
   ]
  },
  {
   "cell_type": "code",
   "metadata": {
    "id": "Q6cH9A-Sx1Ir",
    "colab_type": "code",
    "outputId": "63619a34-d9bf-45d3-8e28-1833f34bb717",
    "colab": {
     "base_uri": "https://localhost:8080/",
     "height": 1000
    },
    "pycharm": {
     "name": "#%%\n"
    }
   },
   "source": [
    "library(igraph)\n",
    "library(tictoc)\n",
    "\n",
    "COLOR=\"purple\"\n",
    "\n",
    "FILE_NAME=\"edges_removed_duplicates.csv\"\n",
    "DATA_NAME=\"WizzAir\"\n",
    "DIRECTED=TRUE\n",
    "\n",
    "dfGraph <- read.csv2(FILE_NAME, skip=1, sep= \",\")\n",
    "g <- graph.data.frame(dfGraph)\n",
    "summary(g)\n",
    "\n",
    "# degree, betweenness, closeness, clustering\n",
    "# coefficient, pagerank, shorthest paths, diameter, number\n",
    "# of connected components, network density\n",
    "\n",
    "\n",
    "tic(\"total\")\n",
    "tic(\"degree\")\n",
    "deg = degree(g, mode=\"in\")\n",
    "mean(deg)\n",
    "toc()\n",
    "hist(deg,\n",
    "       breaks=100,\n",
    "       col=COLOR,\n",
    "       lwd=1,\n",
    "       xlab=\"Degree\",\n",
    "       ylab = \"Frequency\",\n",
    "       main=DATA_NAME)\n",
    "\n",
    "\n",
    "tic(\"betweenness\")\n",
    "betw = betweenness(g, directed=DIRECTED)\n",
    "mean(betw) \n",
    "toc()\n",
    "\n",
    "\n",
    "tic(\"closeness\")\n",
    "closs = closeness(g)\n",
    "mean(closs)\n",
    "toc()\n",
    "\n",
    "\n",
    "tic(\"global clustering coefficient\")\n",
    "g_trans = transitivity(g, type=\"global\")\n",
    "g_trans\n",
    "toc()\n",
    "\n",
    "\n",
    "tic(\"local clustering coefficient\")\n",
    "l_trans = transitivity(g, type=\"local\")\n",
    "hist(l_trans,\n",
    "       col=COLOR,\n",
    "       xlab=\"Clustering Coefficient\",\n",
    "       ylab = \"Frequency\",\n",
    "       breaks=100,\n",
    "       main=DATA_NAME)\n",
    "toc()\n",
    "\n",
    "\n",
    "\n",
    "tic(\"page rank\")\n",
    "mean(page_rank(g)$vector, directed=DIRECTED)\n",
    "toc()\n",
    "\n",
    "\n",
    "tic(\"shortest paths1\")\n",
    "dist = distances(g)\n",
    "mean_distance(g, directed=DIRECTED)\n",
    "hist(dist,\n",
    "       col=COLOR,\n",
    "       xlab=\"Shortest Paths\",\n",
    "       ylab = \"Frequency\",\n",
    "       main=DATA_NAME)\n",
    "toc()\n",
    "\n",
    "\n",
    "tic(\"diameter\")\n",
    "diameter(g, directed=DIRECTED)\n",
    "toc()\n",
    "\n",
    "\n",
    "tic('connected components')\n",
    "no.clusters(g)\n",
    "toc()\n",
    "\n",
    "\n",
    "tic(\"edge density\")\n",
    "edge_density(g)\n",
    "toc()\n",
    "toc()\n",
    "\n",
    "# plot(g, edge.color=\"red\", vertex.color=\"blue\", vertex.size=0.1, vertex.label=NA, edge.arrow.mode=0, layout=layout_nicely)\n",
    "# plot(g, edge.color=\"red\", vertex.color=\"blue\", vertex.size=3, vertex.label=NA, edge.arrow.mode=0, layout=layout_with_drl)\n"
   ],
   "execution_count": 0,
   "outputs": [
    {
     "output_type": "stream",
     "text": [
      "IGRAPH 9c8042b DN-- 156 1476 -- \n",
      "+ attr: name (v/c), Directed (e/c), X6004 (e/n), X (e/l), X.1 (e/l),\n",
      "| X1.1 (e/n)\n"
     ],
     "name": "stdout"
    },
    {
     "output_type": "display_data",
     "data": {
      "text/plain": [
       "[1] 9.461538"
      ],
      "text/latex": "9.46153846153846",
      "text/markdown": "9.46153846153846",
      "text/html": [
       "9.46153846153846"
      ]
     },
     "metadata": {
      "tags": []
     }
    },
    {
     "output_type": "stream",
     "text": [
      "degree: 0.006 sec elapsed\n"
     ],
     "name": "stdout"
    },
    {
     "output_type": "display_data",
     "data": {
      "text/plain": [
       "[1] 211.5577"
      ],
      "text/latex": "211.557692307692",
      "text/markdown": "211.557692307692",
      "text/html": [
       "211.557692307692"
      ]
     },
     "metadata": {
      "tags": []
     }
    },
    {
     "output_type": "stream",
     "text": [
      "betweenness: 0.011 sec elapsed\n"
     ],
     "name": "stdout"
    },
    {
     "output_type": "stream",
     "text": [
      "Warning message in closeness(g):\n",
      "“At centrality.c:2784 :closeness centrality is not well-defined for disconnected graphs”\n"
     ],
     "name": "stderr"
    },
    {
     "output_type": "display_data",
     "data": {
      "text/plain": [
       "[1] 0.001936987"
      ],
      "text/latex": "0.00193698667635352",
      "text/markdown": "0.00193698667635352",
      "text/html": [
       "0.00193698667635352"
      ]
     },
     "metadata": {
      "tags": []
     }
    },
    {
     "output_type": "stream",
     "text": [
      "closeness: 0.01 sec elapsed\n"
     ],
     "name": "stdout"
    },
    {
     "output_type": "display_data",
     "data": {
      "text/plain": [
       "[1] 0.07862308"
      ],
      "text/latex": "0.0786230835984958",
      "text/markdown": "0.0786230835984958",
      "text/html": [
       "0.0786230835984958"
      ]
     },
     "metadata": {
      "tags": []
     }
    },
    {
     "output_type": "stream",
     "text": [
      "global clustering coefficient: 0.007 sec elapsed\n"
     ],
     "name": "stdout"
    },
    {
     "output_type": "display_data",
     "data": {
      "image/png": "[encoded data removed]",
      "text/plain": [
       "Plot with title “WizzAir”"
      ]
     },
     "metadata": {
      "tags": [],
      "image/png": {
       "width": 420,
       "height": 420
      },
      "text/plain": {
       "width": 420,
       "height": 420
      }
     }
    },
    {
     "output_type": "stream",
     "text": [
      "local clustering coefficient: 0.061 sec elapsed\n"
     ],
     "name": "stdout"
    },
    {
     "output_type": "display_data",
     "data": {
      "text/plain": [
       "[1] 0.006410256"
      ],
      "text/latex": "0.00641025641025641",
      "text/markdown": "0.00641025641025641",
      "text/html": [
       "0.00641025641025641"
      ]
     },
     "metadata": {
      "tags": []
     }
    },
    {
     "output_type": "stream",
     "text": [
      "page rank: 0.007 sec elapsed\n"
     ],
     "name": "stdout"
    },
    {
     "output_type": "display_data",
     "data": {
      "text/plain": [
       "[1] 2.373694"
      ],
      "text/latex": "2.37369406867846",
      "text/markdown": "2.37369406867846",
      "text/html": [
       "2.37369406867846"
      ]
     },
     "metadata": {
      "tags": []
     }
    },
    {
     "output_type": "display_data",
     "data": {
      "image/png": "[encoded data removed]",
      "text/plain": [
       "Plot with title “WizzAir”"
      ]
     },
     "metadata": {
      "tags": [],
      "image/png": {
       "width": 420,
       "height": 420
      },
      "text/plain": {
       "width": 420,
       "height": 420
      }
     }
    },
    {
     "output_type": "stream",
     "text": [
      "shortest paths1: 0.073 sec elapsed\n"
     ],
     "name": "stdout"
    },
    {
     "output_type": "display_data",
     "data": {
      "text/plain": [
       "[1] 4"
      ],
      "text/latex": "4",
      "text/markdown": "4",
      "text/html": [
       "4"
      ]
     },
     "metadata": {
      "tags": []
     }
    },
    {
     "output_type": "stream",
     "text": [
      "diameter: 0.006 sec elapsed\n"
     ],
     "name": "stdout"
    },
    {
     "output_type": "display_data",
     "data": {
      "text/plain": [
       "[1] 1"
      ],
      "text/latex": "1",
      "text/markdown": "1",
      "text/html": [
       "1"
      ]
     },
     "metadata": {
      "tags": []
     }
    },
    {
     "output_type": "stream",
     "text": [
      "connected components: 0.006 sec elapsed\n"
     ],
     "name": "stdout"
    },
    {
     "output_type": "display_data",
     "data": {
      "text/plain": [
       "[1] 0.06104218"
      ],
      "text/latex": "0.0610421836228288",
      "text/markdown": "0.0610421836228288",
      "text/html": [
       "0.0610421836228288"
      ]
     },
     "metadata": {
      "tags": []
     }
    },
    {
     "output_type": "stream",
     "text": [
      "edge density: 0.005 sec elapsed\n",
      "total: 0.243 sec elapsed\n"
     ],
     "name": "stdout"
    },
    {
     "output_type": "display_data",
     "data": {
      "image/png": "[encoded data removed]",
      "text/plain": [
       "Plot with title “WizzAir”"
      ]
     },
     "metadata": {
      "tags": [],
      "image/png": {
       "width": 420,
       "height": 420
      },
      "text/plain": {
       "width": 420,
       "height": 420
      }
     }
    }
   ]
  }
 ]
}