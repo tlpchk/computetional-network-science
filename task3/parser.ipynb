{
 "cells": [
  {
   "cell_type": "code",
   "execution_count": 135,
   "metadata": {
    "pycharm": {
     "is_executing": false
    }
   },
   "outputs": [],
   "source": [
    "import re\n",
    "import os\n",
    "from bs4 import BeautifulSoup\n",
    "import csv"
   ]
  },
  {
   "cell_type": "code",
   "execution_count": 136,
   "outputs": [],
   "source": [
    "DIRECTORY_PATH = './pages'"
   ],
   "metadata": {
    "collapsed": false,
    "pycharm": {
     "name": "#%%\n",
     "is_executing": false
    }
   }
  },
  {
   "cell_type": "code",
   "execution_count": 137,
   "outputs": [],
   "source": [
    "class Node:\n",
    "    def __init__(self, code: str, uid: int, name: str, country: str = None):\n",
    "        self.uid = uid\n",
    "        self.name = name\n",
    "        self.code = code\n",
    "        self.country = country\n",
    "\n",
    "# class Edge:\n",
    "#     def __init__(self, start: Node, end: Node):\n",
    "#         self.start = start\n",
    "#         self.end = end"
   ],
   "metadata": {
    "collapsed": false,
    "pycharm": {
     "name": "#%%\n",
     "is_executing": false
    }
   }
  },
  {
   "cell_type": "code",
   "execution_count": 138,
   "metadata": {
    "pycharm": {
     "is_executing": false
    }
   },
   "outputs": [],
   "source": [
    "def get_codes(link):\n",
    "    return tuple((link[-7:]).split('/'))\n",
    "\n",
    "def get_airport_names(text):\n",
    "    re_search = re.search('Flights from (.+) to (.+)', text)\n",
    "    return re_search.group(1).strip(), re_search.group(2).strip()"
   ]
  },
  {
   "cell_type": "code",
   "execution_count": 139,
   "metadata": {
    "pycharm": {
     "is_executing": false
    }
   },
   "outputs": [
    {
     "name": "stdout",
     "text": [
      "('LTN', 'TIA')\n",
      "('London Luton', 'Tirana')\n"
     ],
     "output_type": "stream"
    }
   ],
   "source": [
    "print(get_codes('https://wizzair.com/en-gb/flights/timetable/LTN/TIA'))\n",
    "print(get_airport_names('Flights from London Luton to Tirana'))"
   ]
  },
  {
   "cell_type": "code",
   "execution_count": 140,
   "outputs": [
    {
     "name": "stdout",
     "text": [
      "Hungary\n",
      "Albania\n",
      "Armenia\n",
      "Austria\n",
      "Azerbaijan\n",
      "Belgium\n",
      "Bosnia and Herzegovina\n",
      "Bulgaria\n",
      "Croatia\n",
      "Cyprus\n",
      "Czech Republic\n",
      "Denmark\n",
      "Estonia\n",
      "Finland\n",
      "France\n",
      "Georgia\n",
      "Germany\n",
      "Greece\n",
      "Iceland\n",
      "Israel\n",
      "Italy\n",
      "Kazakhstan\n",
      "Kosovo\n",
      "Latvia\n",
      "Lithuania\n",
      "Malta\n",
      "Moldova\n",
      "Montenegro\n",
      "Morocco\n",
      "Netherlands\n",
      "North Macedonia\n",
      "Norway\n",
      "Poland\n",
      "Portugal\n",
      "Romania\n",
      "Russia\n",
      "Serbia\n",
      "Slovakia\n",
      "Slovenia\n",
      "Spain\n",
      "Sweden\n",
      "Switzerland\n",
      "Ukraine\n",
      "United Arab Emirates\n",
      "United Kingdom\n",
      "Nodes: 156\n",
      "Edges: 1501\n"
     ],
     "output_type": "stream"
    }
   ],
   "source": [
    "Nodes = {}\n",
    "Edges = []\n",
    "uid = 0\n",
    "\n",
    "def get_all_incoming_flights_for_airport(a_tags):\n",
    "    flights = []\n",
    "    for a_tag in a_tags:\n",
    "            content = a_tag.contents[0].strip().replace(\"\\n\", \"\")\n",
    "            link = a_tag['href'].strip()\n",
    "            if \"Flights from\" in content:\n",
    "                codes = get_codes(link)\n",
    "                airport_names = get_airport_names(content)\n",
    "                flights.append((codes, airport_names))\n",
    "    return flights\n",
    "\n",
    "def get_all_incoming_flights_for_country(text: str):\n",
    "    soup = BeautifulSoup(text, 'html.parser')\n",
    "    all_incoming_flights = []\n",
    "    all_accordions = soup.find_all('div', {'class': 'accordion-item__body'})\n",
    "    a_tags_by_accordion = map(lambda accordion: (accordion.find_all('a')), all_accordions)\n",
    "    for accordion_a_tags in a_tags_by_accordion:\n",
    "        all_incoming_flights.extend(get_all_incoming_flights_for_airport(accordion_a_tags))\n",
    "    return all_incoming_flights\n",
    "\n",
    "def update_nodes_and_edges(country, flights):\n",
    "    global uid\n",
    "    for codes, airport_names in flights:\n",
    "        code_from, code_to = codes\n",
    "        airport_from, airport_to = airport_names\n",
    "        \n",
    "        if code_from in Nodes:\n",
    "            node_from = Nodes.get(code_from)\n",
    "        else:\n",
    "            node_from = Node(code_from, uid, airport_from)\n",
    "            Nodes[code_from] = node_from\n",
    "            uid += 1\n",
    "        \n",
    "        if code_to in Nodes:\n",
    "            node_to = Nodes.get(code_to)\n",
    "            node_to.country = country\n",
    "        else:\n",
    "            node_to = Node(code_to, uid, airport_to, country)\n",
    "            Nodes[code_to] = node_to\n",
    "            uid += 1\n",
    "            \n",
    "        Edges.append((node_from.uid, node_to.uid))\n",
    "        \n",
    "for filename in os.listdir(DIRECTORY_PATH):\n",
    "    if \"Main\" not in filename and \"html\" in filename:\n",
    "        with open(os.path.join(DIRECTORY_PATH, filename), 'r') as f:\n",
    "            text_for_country = f.read()\n",
    "            flights_for_country = get_all_incoming_flights_for_country(text_for_country)\n",
    "            country_name = filename[:-5].replace('_', ' ')\n",
    "            print(country_name)\n",
    "            update_nodes_and_edges(country_name, flights_for_country)\n",
    "            \n",
    "print(\"Nodes:\", len(Nodes))\n",
    "print(\"Edges:\", len(Edges))    \n",
    "    \n",
    "    "
   ],
   "metadata": {
    "collapsed": false,
    "pycharm": {
     "name": "#%%\n",
     "is_executing": false
    }
   }
  },
  {
   "cell_type": "code",
   "execution_count": 141,
   "outputs": [],
   "source": [
    "with open('nodes.csv', 'w') as f:\n",
    "    f.write(\"uid, code, name, country\\n\")\n",
    "    for node in Nodes.values():\n",
    "        f.write(f\"{node.uid}, {node.code}, {node.name}, {node.country}\\n\")\n",
    "\n",
    "with open('edges.csv', 'w') as f:\n",
    "    f.write(\"source, target\\n\")\n",
    "    for source, target in Edges:\n",
    "        f.write(f\"{source}, {target}\\n\")\n",
    "        "
   ],
   "metadata": {
    "collapsed": false,
    "pycharm": {
     "name": "#%%\n",
     "is_executing": false
    }
   }
  },
  {
   "cell_type": "code",
   "execution_count": 142,
   "outputs": [
    {
     "name": "stdout",
     "text": [
      "744\n"
     ],
     "output_type": "stream"
    }
   ],
   "source": [
    "suma = 0\n",
    "for i, (edge0_0, edge0_1) in enumerate(Edges):\n",
    "    for j in range(i, len(Edges)):\n",
    "        edge1_0, edge1_1 = Edges[j]\n",
    "        if edge0_0 == edge1_1 and edge0_1 == edge1_0:\n",
    "            suma +=1\n",
    "print(suma) # = 744, which means that there are 13 airports from which we cannot go back (or data error)"
   ],
   "metadata": {
    "collapsed": false,
    "pycharm": {
     "name": "#%%\n",
     "is_executing": false
    }
   }
  }
 ],
 "metadata": {
  "kernelspec": {
   "display_name": "Python 3",
   "language": "python",
   "name": "python3"
  },
  "language_info": {
   "codemirror_mode": {
    "name": "ipython",
    "version": 3
   },
   "file_extension": ".py",
   "mimetype": "text/x-python",
   "name": "python",
   "nbconvert_exporter": "python",
   "pygments_lexer": "ipython3",
   "version": "3.7.6"
  },
  "pycharm": {
   "stem_cell": {
    "cell_type": "raw",
    "source": [],
    "metadata": {
     "collapsed": false
    }
   }
  }
 },
 "nbformat": 4,
 "nbformat_minor": 4
}