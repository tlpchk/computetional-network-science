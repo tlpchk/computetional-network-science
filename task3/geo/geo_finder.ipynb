{
 "cells": [
  {
   "cell_type": "markdown",
   "metadata": {
    "colab_type": "text",
    "id": "4HtGTL6tWLMI"
   },
   "source": []
  },
  {
   "cell_type": "code",
   "execution_count": 1,
   "metadata": {
    "colab": {},
    "colab_type": "code",
    "id": "QbW0ami_JC-D"
   },
   "outputs": [],
   "source": [
    "from pathlib import Path\n",
    "import requests\n",
    "import pandas as pd\n",
    "import time\n",
    "from json import JSONDecodeError\n",
    "\n",
    "ROOT = Path('../csv')"
   ]
  },
  {
   "cell_type": "code",
   "execution_count": 2,
   "metadata": {
    "colab": {
     "base_uri": "https://localhost:8080/",
     "height": 71
    },
    "colab_type": "code",
    "id": "vIT1kvLEXbVW",
    "outputId": "29812af0-02e7-414d-8266-bfbf449b19b4"
   },
   "outputs": [],
   "source": [
    "# def init_geo_data(outfile):\n",
    "#     df = pd.read_csv(ROOT/'nodes.csv',delimiter=\", \")\n",
    "#     df['latt']=0.0\n",
    "#     df['longt']=0.0\n",
    "#     df.to_csv(outfile, encoding='utf-8')\n",
    "\n",
    "# init_geo_data(ROOT/'geodata.csv')"
   ]
  },
  {
   "cell_type": "code",
   "execution_count": 3,
   "metadata": {
    "colab": {},
    "colab_type": "code",
    "id": "W3kAJ_Ueu5IP"
   },
   "outputs": [],
   "source": [
    "def retrieve_geo_data(infile):\n",
    "    df = pd.read_csv(infile)\n",
    "    positionURL = lambda name,country : 'https://geocode.xyz/{},{}?json=1'.format(name,country)\n",
    "\n",
    "    for idx, row in df.iterrows():\n",
    "        if row['longt'] == 0:\n",
    "            try:\n",
    "                name = row['name']\n",
    "                country = row['country']\n",
    "                res = requests.get(positionURL(name,country)).json()\n",
    "                df.set_value(idx,'latt',float(res['latt']))\n",
    "                df.set_value(idx,'longt',float(res['longt']))\n",
    "                df.to_csv(infile, encoding='utf-8')\n",
    "                time.sleep(4.0)\n",
    "            except (KeyError, JSONDecodeError):\n",
    "                print(res)\n",
    "                pass\n",
    "        print(idx,df['longt'][idx])\n",
    "\n",
    "def missing(infile,outfile=ROOT/\"missing_geodata.csv\"):\n",
    "    df = pd.read_csv(infile)\n",
    "    (df[df['longt'] == 0]).to_csv(outfile)"
   ]
  },
  {
   "cell_type": "code",
   "execution_count": 64,
   "metadata": {},
   "outputs": [],
   "source": [
    "retrieve_geo_data(ROOT/'geodata.csv')\n",
    "missing(ROOT/'geodata.csv',ROOT/\"miss_geodata.csv\")"
   ]
  }
 ],
 "metadata": {
  "accelerator": "GPU",
  "colab": {
   "collapsed_sections": [],
   "name": "Task 3 Geofinder Util.ipynb",
   "provenance": [],
   "toc_visible": true
  },
  "kernelspec": {
   "display_name": "Python 3",
   "language": "python",
   "name": "python3"
  },
  "language_info": {
   "codemirror_mode": {
    "name": "ipython",
    "version": 3
   },
   "file_extension": ".py",
   "mimetype": "text/x-python",
   "name": "python",
   "nbconvert_exporter": "python",
   "pygments_lexer": "ipython3",
   "version": "3.7.7"
  }
 },
 "nbformat": 4,
 "nbformat_minor": 1
}
